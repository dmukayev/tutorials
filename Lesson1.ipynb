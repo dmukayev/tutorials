{
 "cells": [
  {
   "cell_type": "code",
   "execution_count": null,
   "metadata": {},
   "outputs": [],
   "source": [
    "# This tutorial will be on Python lists. \n",
    "# Let's import some libraries we're gonna need later on\n",
    "import random\n",
    "import time"
   ]
  },
  {
   "cell_type": "code",
   "execution_count": null,
   "metadata": {},
   "outputs": [],
   "source": [
    "# Awesome! Let's start with lists. A list in Python is like an array except that it is much more flexible.\n",
    "# You can delete, insert and update list values during runtime without having to declare a new list.\n",
    "# We'll cover most list manipulation operations in this notebook, \n",
    "# but first, let's declare a simple list of N random integers.\n",
    "# There are 2 ways to do this. You can either use the randint() function from the random module...\n",
    "min_value = 1\n",
    "max_value = 100\n",
    "N = 10\n",
    "\n",
    "print(random.randint(min_value, max_value)) # both extreme values inclusive\n",
    "\n",
    "# ...or you can use the random() function that returns a random floating point number between 0 and 1 \n",
    "_range = max_value - min_value # range of random values (max_value - min_value)\n",
    "_offset = min_value # the list will range between -10 and 0 inclusive\n",
    "print(round(random.random() * _range + _offset))"
   ]
  },
  {
   "cell_type": "code",
   "execution_count": null,
   "metadata": {},
   "outputs": [],
   "source": [
    "# let's encapsulate these 2 methods in a single function for convenience\n",
    "def generate_random_number(min_value, max_value, method=1):\n",
    "        # let's use an inline if statement for efficiency\n",
    "        return random.randint(min_value, max_value) if method == 1 else round(random.random() * (max_value - min_value) + min_value)"
   ]
  },
  {
   "cell_type": "code",
   "execution_count": null,
   "metadata": {
    "scrolled": true
   },
   "outputs": [],
   "source": [
    "# How do we declare an array? The simplest way to do so is with a loop like this. \n",
    "# Let's compare 2 Python loops and see how fast they perform (we'll need a larger N to really see the difference)\n",
    "N = 1000000\n",
    "arr = []\n",
    "start_time = time.time()\n",
    "for i in range(N):\n",
    "        arr.append(generate_random_number(min_value, max_value))\n",
    "print(f\"Populating a list with a for loop took {round(time.time() - start_time, 3)} seconds\")\n",
    "\n",
    "# clear the original array\n",
    "arr = []\n",
    "\n",
    "# start the loop\n",
    "start_time = time.time()\n",
    "i = 0\n",
    "while i < N:\n",
    "        arr.append(generate_random_number(min_value, max_value))\n",
    "        i += 1\n",
    "\n",
    "print(f\"Populating a list with a while loop took {round(time.time() - start_time, 3)} seconds\")"
   ]
  },
  {
   "cell_type": "code",
   "execution_count": null,
   "metadata": {},
   "outputs": [],
   "source": [
    "# The 2 loops performed pretty much the same. How about an inline for loop?\n",
    "arr = []\n",
    "start_time = time.time()\n",
    "arr = [generate_random_number(min_value, max_value) for i in range(N)]\n",
    "print(f\"Populating a list with an inline for loop took {round(time.time() - start_time, 3)} seconds\")"
   ]
  },
  {
   "cell_type": "code",
   "execution_count": null,
   "metadata": {},
   "outputs": [],
   "source": [
    "# As you can see, the differences are negligible, so you are free to use whatever method you want.\n",
    "# The latter option is faster to write and takes up less space\n",
    "\n",
    "# How about a more advanced example of inline loops? \n",
    "num_rows = 4\n",
    "num_cols = 3\n",
    "\n",
    "# What do you think arr will look like? It should look familiar...\n",
    "arr = [[i * j for j in range(1, num_cols + 1)] for i in range(1, num_rows + 1)]\n",
    "print(arr) # that's a multiplication table of 3 by 4!"
   ]
  },
  {
   "cell_type": "code",
   "execution_count": null,
   "metadata": {},
   "outputs": [],
   "source": [
    "# Now let's have a look at some list manipulation examples\n",
    "# 1. indexing\n",
    "# You can do a forward traversal by indexing list elements one by one\n",
    "arr = sorted([generate_random_number(1, 100) for i in range(5)])\n",
    "print(\"Forward traversal:\")\n",
    "for i in range(len(arr)): # never hard code any absolute values!\n",
    "    print(arr[i], end=' ')\n",
    "print()\n",
    "\n",
    "# You can also use negative indices to access elements from the end\n",
    "print(\"Backward traversal:\")\n",
    "for i in range(-1, -len(arr) - 1, -1): # never hard code any absolute values!\n",
    "    print(arr[i], end=' ') # i will be -1, -2, -3 and so on until -1 * length of arr\n",
    "print()\n",
    "\n",
    "# with negative indexing, you can access elements from the back\n",
    "# for example, arr[-2] is the penultimate element"
   ]
  },
  {
   "cell_type": "code",
   "execution_count": null,
   "metadata": {},
   "outputs": [],
   "source": [
    "# 2. slicing\n",
    "# we're now ready to see some advanced examples of list slicing\n",
    "# what do you think will this line output?\n",
    "print(arr[:-3])"
   ]
  },
  {
   "cell_type": "code",
   "execution_count": null,
   "metadata": {},
   "outputs": [],
   "source": [
    "# The line above gave us the last 2 elements of the original array. Pretty cool! \n",
    "# Note how you don't have to indicate a start or an end slicing index. If you leave them out,\n",
    "# Then default values will be used, i.e. 0 for start and the length of the list for the end.\n",
    "# This means that an expression like arr[:] is perfectly valid. In this case, the whole list will be used.\n",
    "# The end slicing index is not included, but the start index is.\n",
    "\n",
    "# Can we combine positive and negative indexing?\n",
    "print(arr[2:-2])"
   ]
  },
  {
   "cell_type": "code",
   "execution_count": null,
   "metadata": {},
   "outputs": [],
   "source": [
    "# Turns out that we totally can! The line above cut off 2 elements from both ends and gave us a single element. \n",
    "# Note that even though there is only 1 value, it's still a list. Feel free to play around with indexing right here!\n",
    "\n",
    "# YOUR CODE GOES HERE"
   ]
  },
  {
   "cell_type": "code",
   "execution_count": null,
   "metadata": {},
   "outputs": [],
   "source": [
    "# Now you might be wondering, if I were to use slicing in my code, would that count as an additional memory overhead?\n",
    "# And the answer to that is yes, but list slicing does not copy the actual list elements.\n",
    "# Instead, it copies references to those array values. \n",
    "# To prove this, let's compare the IDs of the values in arr and those in its slice.\n",
    "\n",
    "cut_point = 2\n",
    "_slice = arr[:cut_point]\n",
    "arr_ids = list(map(id, arr))\n",
    "slice_ids = list(map(id, _slice))\n",
    "print(\"IDs of arr:\", arr_ids)\n",
    "print(\"IDs of arr's slice:\", slice_ids)\n",
    "\n",
    "are_identical = True\n",
    "for i in range(cut_point):\n",
    "    are_identical &= arr_ids[i] == slice_ids[i]\n",
    "print(\"The IDs of the first\", cut_point, \"elements of arr and its slice are identical:\", are_identical)"
   ]
  },
  {
   "cell_type": "code",
   "execution_count": null,
   "metadata": {},
   "outputs": [],
   "source": [
    "# You can see that, indeed, the 2 arrays are referencing the same elements. \n",
    "# However, do they themselves reference the same object?\n",
    "# Every object in Python has a unique identifier, even simple data types like integers.\n",
    "print(\"2 integers with the same value (e.g. 1 and 1) reference the same object:\", id(1) == id(1))\n",
    "\n",
    "# So is id(arr) == id(_slice)? In other words, does slicing allocate extra memory for the slice?\n",
    "# Please try to answer this question yourself before running this cell.\n",
    "print(\"arr and _slice reference the same object:\", id(arr) == id(_slice))"
   ]
  },
  {
   "cell_type": "code",
   "execution_count": null,
   "metadata": {},
   "outputs": [],
   "source": [
    "# The takeaway here is that it is ok to use slicing in your code because the space overhead isn't substantial.\n",
    "# After all, you only copy object references, not their values, \n",
    "# which is especially useful for large objects like multi-dimensional lists.\n",
    "# Another huge advantage to this is that when you try to change a value of a slice, the change won't be reflected\n",
    "# on the original list. Let's see an example\n",
    "print(\"These are the original contents of arr:\", arr)\n",
    "_slice[0] = -1000\n",
    "print(\"These are the contents of arr after _slice was modified:\", arr)"
   ]
  },
  {
   "cell_type": "code",
   "execution_count": null,
   "metadata": {},
   "outputs": [],
   "source": [
    "# This worked because we referenced a brand new object, i.e. _slice. However, if we modify arr's slice like this,..\n",
    "arr[2:3] = [-1000]\n",
    "# ... then the change will be reflected in arr, so be careful!"
   ]
  },
  {
   "cell_type": "code",
   "execution_count": null,
   "metadata": {},
   "outputs": [],
   "source": [
    "# 3. merging lists\n",
    "# There are 2 ways for you to merge 2 lists: either horizontally (column-wise) or vertically (row-wise). \n",
    "# Here is how to merge lists horizontally:\n",
    "arr1 = sorted([generate_random_number(1, 100) for i in range(5)])\n",
    "arr2 = sorted([generate_random_number(1, 100) for i in range(5)])\n",
    "print(\"arr1 + arr2 (horizontally):\", arr1 + arr2)"
   ]
  },
  {
   "cell_type": "code",
   "execution_count": null,
   "metadata": {},
   "outputs": [],
   "source": [
    "# You can see that the result of merging 2 1-d lists is another 1-d list. How about merging them vertically?\n",
    "print(\"arr1 + arr2 (vertically):\", [arr1, arr2])"
   ]
  },
  {
   "cell_type": "code",
   "execution_count": null,
   "metadata": {},
   "outputs": [],
   "source": [
    "# What if you wanted to change the shape of the merged array and transpose it? \n",
    "# You could use a for loop, but that would be inefficient. \n",
    "# For matrix manipulation and efficient list operations like \n",
    "# adding the values of 2 arrays together in a single line, please use NumPy.\n",
    "# It is marginally faster than regular Python constructs. \n",
    "# It uses low-level tricks that are beyond the scope of this tutorial :)\n",
    "# This awesome library overloaded simple operators like + and *, so you won't be able to use + for merging\n",
    "# This is optional, but if you are interested, you can take a look.\n",
    "import numpy as np\n",
    "a1 = np.array([1, 2, 3])\n",
    "a2 = np.array([4, 5, 6])\n",
    "print(\"a1:\", a1)\n",
    "print(\"a2:\", a2)\n",
    "print(\"a1 + a2 =\", a1 + a2) \n",
    "print(\"a1 * a2 =\", a1 * a2)\n",
    "print(\"a1 x a2 =\", np.dot(a1, a2))\n",
    "print(\"Horizontal stacking of a1 and a2:\")\n",
    "print(np.hstack((a1, a2)))\n",
    "print(\"Vertical stacking of a1 and a2:\")\n",
    "print(np.vstack((a1, a2)))\n",
    "\n",
    "# the row dimension in reshape() is inferred automatically \n",
    "print(\"Vertical stacking of a1 and a2 reshaped to have 2 columns:\")\n",
    "print(np.vstack((a1, a2)).reshape(-1, 2)) \n",
    "\n",
    "print(\"Vertical stacking of a1 and a2 transposed:\")\n",
    "print(np.vstack((a1, a2)).T) "
   ]
  },
  {
   "cell_type": "code",
   "execution_count": null,
   "metadata": {},
   "outputs": [],
   "source": [
    "# 4. modification\n",
    "# lists are mutable, meaning that they can be changed even within functions!\n",
    "fruit = [[\"banana\", \"apple\", \"cherry\"], [\"dragonfruit\", \"mango\", \"passionfruit\"]]\n",
    "print(\"Original list:\", fruit)\n",
    "fruit[0][1] = \"pear\" # be careful with direct modification\n",
    "print(\"Modified list:\", fruit)"
   ]
  },
  {
   "cell_type": "code",
   "execution_count": null,
   "metadata": {},
   "outputs": [],
   "source": [
    "# how about mpdifying a NumPy array? You can use multiple indexing conventions\n",
    "np_fruit = np.array(fruit)\n",
    "np_fruit[0][1] = \"apple\"\n",
    "np_fruit[0, 1] = \"apple\"\n",
    "print(\"Modified list:\", np_fruit)"
   ]
  },
  {
   "cell_type": "code",
   "execution_count": null,
   "metadata": {},
   "outputs": [],
   "source": [
    "# 5. deletion\n",
    "del fruit[0][1]\n",
    "print(\"fruit with the second element of the first element deleted:\")\n",
    "print(fruit)\n",
    "deleted = fruit[0].pop(1) # returns the deleted value\n",
    "print(\"fruit with the second element of the first element popped off:\")\n",
    "print(fruit)\n",
    "fruit[1].remove('mango') # deletes by value, NOT index\n",
    "print(\"fruit with 'mango' of the second element deleted:\")\n",
    "print(fruit)"
   ]
  },
  {
   "cell_type": "code",
   "execution_count": null,
   "metadata": {},
   "outputs": [],
   "source": [
    "# another way to delete list values is to reconstruct the list by discarding elements that don't meet certain conditions\n",
    "# let's delete all elements that end with 'fruit'\n",
    "# note the use of len(fruit[i]) instead of len(fruit[0]) in the inner loop\n",
    "fruit = [[\"banana\", \"apple\", \"cherry\"], [\"dragonfruit\", \"mango\", \"passionfruit\"]]\n",
    "fruit = [[fruit[i][j] for j in range(len(fruit[i])) if fruit[i][j][-len('fruit'):] != 'fruit'] for i in range(len(fruit))]\n",
    "print(fruit)\n",
    "\n",
    "# this method is especially useful if you are looping through list elements\n",
    "# if you try to delete an element inside a loop, your indices will get messed up,\n",
    "# so you will see an error"
   ]
  },
  {
   "cell_type": "code",
   "execution_count": null,
   "metadata": {},
   "outputs": [],
   "source": [
    "# 6. addition\n",
    "# you can either append values at the end or insert values at whatever index you like\n",
    "new_fruit = [\"tomato\", \"avocado\"]\n",
    "fruit += [new_fruit] # food for thought: why enclose new_fruit in square brackets?\n",
    "print(\"Fruit after appending new fruit at the end through merging:\", fruit)\n",
    "del fruit[-1]\n",
    "fruit.append(new_fruit)\n",
    "print(\"Fruit after appending new fruit at the end with append():\", fruit)\n",
    "del fruit[-1]\n",
    "fruit.insert(1, new_fruit)\n",
    "print(\"Fruit after inserting new fruit in the second position:\", fruit)"
   ]
  },
  {
   "cell_type": "code",
   "execution_count": null,
   "metadata": {},
   "outputs": [],
   "source": [
    "# 7. other useful functions\n",
    "# sorting\n",
    "arr = [generate_random_number(1, 100) for i in range(5)]\n",
    "print(\"Original arr:\", arr)\n",
    "print(\"Sorted arr:\", sorted(arr)) # doesn't modify the original list and returns the sorted version of the list\n",
    "print(\"arr after sorting using sorted():\", arr)\n",
    "arr.sort() # modifies the list in place and does not return anything\n",
    "print(\"arr after sorting using .sort():\", arr)"
   ]
  },
  {
   "cell_type": "code",
   "execution_count": null,
   "metadata": {},
   "outputs": [],
   "source": [
    "# reversing\n",
    "arr = [generate_random_number(1, 100) for i in range(5)]\n",
    "print(\"Original arr:\", arr)\n",
    "print(\"Reversed arr:\", sorted(arr, reverse=True)) # doesn't modify the original list and returns the sorted version of the list\n",
    "print(\"arr after reversing using sorted():\", arr)\n",
    "arr.reverse() # modifies the list in place and does not return anything\n",
    "print(\"arr after reversing using .reverse():\", arr)"
   ]
  },
  {
   "cell_type": "code",
   "execution_count": null,
   "metadata": {},
   "outputs": [],
   "source": [
    "# ----- HOMEWORK -----\n",
    "# 1. Create an upside down triangle of asterisks by declaring a 2D list using inline for loops\n",
    "# Here is a sample triangle:\n",
    "# ****\n",
    "# ***\n",
    "# **\n",
    "# *\n",
    "# Initialise a variable N and use it to define the number of asterisks in the top level\n",
    "# YOUR CODE GOES HERE"
   ]
  },
  {
   "cell_type": "code",
   "execution_count": null,
   "metadata": {},
   "outputs": [],
   "source": [
    "# 2. Write a function for reversing a list. \n",
    "# Try to think of as many ways to reverse a list as possible and use what you learned today :)"
   ]
  }
 ],
 "metadata": {
  "kernelspec": {
   "display_name": "Python 3",
   "language": "python",
   "name": "python3"
  },
  "language_info": {
   "codemirror_mode": {
    "name": "ipython",
    "version": 3
   },
   "file_extension": ".py",
   "mimetype": "text/x-python",
   "name": "python",
   "nbconvert_exporter": "python",
   "pygments_lexer": "ipython3",
   "version": "3.6.4"
  }
 },
 "nbformat": 4,
 "nbformat_minor": 2
}
